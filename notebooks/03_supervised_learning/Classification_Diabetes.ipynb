{
 "cells": [
  {
   "cell_type": "markdown",
   "id": "d996c7f6",
   "metadata": {},
   "source": [
    "In this notebook we are going to try and explore the various data preprocessing features provided in the scikit-learn library."
   ]
  },
  {
   "cell_type": "code",
   "execution_count": 1,
   "id": "c50f5a51",
   "metadata": {},
   "outputs": [],
   "source": [
    "import numpy as np\n",
    "import pandas as pd\n",
    "from pandas import DataFrame\n",
    "\n",
    "import seaborn as sns\n",
    "import matplotlib.pyplot as plt"
   ]
  },
  {
   "cell_type": "code",
   "execution_count": 3,
   "id": "16bc9500",
   "metadata": {},
   "outputs": [],
   "source": [
    "raw_data = pd.read_csv('../../data/external/diabetes.csv')\n",
    "X = raw_data.drop(columns=['Outcome'])\n",
    "y = raw_data['Outcome']"
   ]
  },
  {
   "cell_type": "code",
   "execution_count": 4,
   "id": "7be2cba3",
   "metadata": {},
   "outputs": [],
   "source": [
    "from sklearn.model_selection import train_test_split\n",
    "X_train, X_test, y_train, y_test = train_test_split(X, y, test_size=0.2, random_state=42)"
   ]
  },
  {
   "cell_type": "code",
   "execution_count": 5,
   "id": "52571799",
   "metadata": {},
   "outputs": [
    {
     "name": "stdout",
     "output_type": "stream",
     "text": [
      "Training models using cross-validation folds...\n",
      "==================================================\n"
     ]
    }
   ],
   "source": [
    "from sklearn.metrics import accuracy_score, classification_report, confusion_matrix\n",
    "from sklearn.ensemble import RandomForestClassifier\n",
    "from sklearn.linear_model import LogisticRegression\n",
    "from sklearn.svm import SVC\n",
    "\n",
    "# Initialize models for classification (since we're predicting diabetes outcome)\n",
    "models = {\n",
    "    'Logistic Regression': LogisticRegression(random_state=42, max_iter=1000),\n",
    "    'Random Forest': RandomForestClassifier(random_state=42, n_estimators=100),\n",
    "    'SVM': SVC(random_state=42)\n",
    "}\n",
    "\n",
    "# Store results for each model and fold\n",
    "results = {model_name: [] for model_name in models.keys()}\n",
    "\n",
    "print(\"Training models using cross-validation folds...\")\n",
    "print(\"=\" * 50)"
   ]
  },
  {
   "cell_type": "code",
   "execution_count": 6,
   "id": "4846275f",
   "metadata": {},
   "outputs": [
    {
     "name": "stdout",
     "output_type": "stream",
     "text": [
      "\n",
      "Fold 1:\n",
      "--------------------\n",
      "Logistic Regression: 0.7805\n",
      "Random Forest: 0.7967\n",
      "SVM: 0.7805\n",
      "\n",
      "Fold 2:\n",
      "--------------------\n",
      "Logistic Regression: 0.8049\n",
      "Random Forest: 0.8211\n",
      "SVM: 0.7967\n",
      "\n",
      "Fold 3:\n",
      "--------------------\n",
      "Logistic Regression: 0.7317\n",
      "Random Forest: 0.7642\n",
      "SVM: 0.6911\n",
      "\n",
      "Fold 4:\n",
      "--------------------\n",
      "Logistic Regression: 0.6992\n",
      "Random Forest: 0.7724\n",
      "SVM: 0.7317\n",
      "\n",
      "Fold 5:\n",
      "--------------------\n",
      "Logistic Regression: 0.7480\n",
      "Random Forest: 0.7642\n",
      "SVM: 0.7154\n"
     ]
    }
   ],
   "source": [
    "from sklearn.model_selection import StratifiedShuffleSplit\n",
    "\n",
    "# Create a new StratifiedShuffleSplit to get fresh splits\n",
    "sss_cv = StratifiedShuffleSplit(n_splits=5, test_size=0.2, random_state=67)\n",
    "\n",
    "# Perform cross-validation\n",
    "fold_num = 1\n",
    "for train_idx, val_idx in sss_cv.split(X_train, y_train):\n",
    "    print(f\"\\nFold {fold_num}:\")\n",
    "    print(\"-\" * 20)\n",
    "    \n",
    "    # Split the training data into train and validation sets\n",
    "    X_fold_train, X_fold_val = X_train.iloc[train_idx], X_train.iloc[val_idx]\n",
    "    y_fold_train, y_fold_val = y_train.iloc[train_idx], y_train.iloc[val_idx]\n",
    "    \n",
    "    # Train and evaluate each model\n",
    "    for model_name, model in models.items():\n",
    "        # Train the model\n",
    "        model.fit(X_fold_train, y_fold_train)\n",
    "        \n",
    "        # Make predictions\n",
    "        y_pred = model.predict(X_fold_val)\n",
    "        \n",
    "        # Calculate accuracy\n",
    "        accuracy = accuracy_score(y_fold_val, y_pred)\n",
    "        results[model_name].append(accuracy)\n",
    "        \n",
    "        print(f\"{model_name}: {accuracy:.4f}\")\n",
    "    \n",
    "    fold_num += 1"
   ]
  },
  {
   "cell_type": "code",
   "execution_count": 7,
   "id": "95ba501e",
   "metadata": {},
   "outputs": [
    {
     "name": "stdout",
     "output_type": "stream",
     "text": [
      "\n",
      "==================================================\n",
      "CROSS-VALIDATION RESULTS SUMMARY\n",
      "==================================================\n",
      "\n",
      "Logistic Regression:\n",
      "  Individual fold scores: ['0.7805', '0.8049', '0.7317', '0.6992', '0.7480']\n",
      "  Mean accuracy: 0.7528 (+/- 0.0369)\n",
      "\n",
      "Random Forest:\n",
      "  Individual fold scores: ['0.7967', '0.8211', '0.7642', '0.7724', '0.7642']\n",
      "  Mean accuracy: 0.7837 (+/- 0.0222)\n",
      "\n",
      "SVM:\n",
      "  Individual fold scores: ['0.7805', '0.7967', '0.6911', '0.7317', '0.7154']\n",
      "  Mean accuracy: 0.7431 (+/- 0.0397)\n",
      "\n",
      "Best performing model: Random Forest\n",
      "Best mean accuracy: 0.7837\n"
     ]
    }
   ],
   "source": [
    "# Display cross-validation results summary\n",
    "print(\"\\n\" + \"=\" * 50)\n",
    "print(\"CROSS-VALIDATION RESULTS SUMMARY\")\n",
    "print(\"=\" * 50)\n",
    "\n",
    "for model_name, scores in results.items():\n",
    "    mean_accuracy = np.mean(scores)\n",
    "    std_accuracy = np.std(scores)\n",
    "    print(f\"\\n{model_name}:\")\n",
    "    print(f\"  Individual fold scores: {[f'{score:.4f}' for score in scores]}\")\n",
    "    print(f\"  Mean accuracy: {mean_accuracy:.4f} (+/- {std_accuracy:.4f})\")\n",
    "\n",
    "# Find the best performing model\n",
    "best_model_name = max(results.keys(), key=lambda k: np.mean(results[k]))\n",
    "best_mean_score = np.mean(results[best_model_name])\n",
    "\n",
    "print(f\"\\nBest performing model: {best_model_name}\")\n",
    "print(f\"Best mean accuracy: {best_mean_score:.4f}\")"
   ]
  },
  {
   "cell_type": "code",
   "execution_count": 8,
   "id": "6ccce8d8",
   "metadata": {},
   "outputs": [
    {
     "name": "stdout",
     "output_type": "stream",
     "text": [
      "\n",
      "==================================================\n",
      "FINAL MODEL EVALUATION\n",
      "==================================================\n",
      "Model: Random Forest\n",
      "Test Set Accuracy: 0.7208\n",
      "\n",
      "Classification Report:\n",
      "              precision    recall  f1-score   support\n",
      "\n",
      "           0       0.79      0.78      0.78        99\n",
      "           1       0.61      0.62      0.61        55\n",
      "\n",
      "    accuracy                           0.72       154\n",
      "   macro avg       0.70      0.70      0.70       154\n",
      "weighted avg       0.72      0.72      0.72       154\n",
      "\n",
      "\n",
      "Confusion Matrix:\n",
      "[[77 22]\n",
      " [21 34]]\n"
     ]
    }
   ],
   "source": [
    "# Train the best model on the full training set and evaluate on test set\n",
    "print(\"\\n\" + \"=\" * 50)\n",
    "print(\"FINAL MODEL EVALUATION\")\n",
    "print(\"=\" * 50)\n",
    "\n",
    "# Get the best model\n",
    "best_model = models[best_model_name]\n",
    "\n",
    "# Train on full training set\n",
    "best_model.fit(X_train, y_train)\n",
    "\n",
    "# Predict on test set\n",
    "y_test_pred = best_model.predict(X_test)\n",
    "\n",
    "# Calculate test accuracy\n",
    "test_accuracy = accuracy_score(y_test, y_test_pred)\n",
    "\n",
    "print(f\"Model: {best_model_name}\")\n",
    "print(f\"Test Set Accuracy: {test_accuracy:.4f}\")\n",
    "\n",
    "# Display detailed classification report\n",
    "print(f\"\\nClassification Report:\")\n",
    "print(classification_report(y_test, y_test_pred))\n",
    "\n",
    "# Display confusion matrix\n",
    "print(f\"\\nConfusion Matrix:\")\n",
    "cm = confusion_matrix(y_test, y_test_pred)\n",
    "print(cm)"
   ]
  },
  {
   "cell_type": "code",
   "execution_count": null,
   "id": "1229e013",
   "metadata": {},
   "outputs": [],
   "source": []
  }
 ],
 "metadata": {
  "kernelspec": {
   "display_name": "ml-env",
   "language": "python",
   "name": "python3"
  },
  "language_info": {
   "codemirror_mode": {
    "name": "ipython",
    "version": 3
   },
   "file_extension": ".py",
   "mimetype": "text/x-python",
   "name": "python",
   "nbconvert_exporter": "python",
   "pygments_lexer": "ipython3",
   "version": "3.12.11"
  }
 },
 "nbformat": 4,
 "nbformat_minor": 5
}
